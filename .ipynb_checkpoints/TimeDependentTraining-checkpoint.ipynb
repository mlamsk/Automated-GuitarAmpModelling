{
 "cells": [
  {
   "cell_type": "code",
   "execution_count": 30,
   "id": "96b36a2f",
   "metadata": {},
   "outputs": [
    {
     "name": "stdout",
     "output_type": "stream",
     "text": [
      "Non-Parameterized Data With Distinct Validation\n",
      "['./Recordings/hverb/H-Verb_Training_Clean.wav', './Recordings/hverb/H-Verb_Training_Dirty.wav', './Recordings/hverb/H-Verb_Test_Clean.wav', './Recordings/hverb/H-Verb_Test_Dirty.wav', './Recordings/hverb/H-Verb_Test_Clean.wav', './Recordings/hverb/H-Verb_Test_Dirty.wav']\n",
      "/home/micahtseng/Personal/mlamsk/python3Env/pytorchSandbox/Automated-GuitarAmpModelling/prep_wav.py:138: WavFileWarning: Chunk (non-data) not understood, skipping it.\n",
      "  in_rate, in_data = wavfile.read(args.validation[0])\n",
      "/home/micahtseng/Personal/mlamsk/python3Env/pytorchSandbox/Automated-GuitarAmpModelling/prep_wav.py:139: WavFileWarning: Chunk (non-data) not understood, skipping it.\n",
      "  out_rate, out_data = wavfile.read(args.validation[1])\n",
      "/home/micahtseng/Personal/mlamsk/python3Env/pytorchSandbox/Automated-GuitarAmpModelling/prep_wav.py:143: WavFileWarning: Chunk (non-data) not understood, skipping it.\n",
      "  in_rate, in_data = wavfile.read(args.validation[2])\n",
      "/home/micahtseng/Personal/mlamsk/python3Env/pytorchSandbox/Automated-GuitarAmpModelling/prep_wav.py:144: WavFileWarning: Chunk (non-data) not understood, skipping it.\n",
      "  out_rate, out_data = wavfile.read(args.validation[3])\n",
      "/home/micahtseng/Personal/mlamsk/python3Env/pytorchSandbox/Automated-GuitarAmpModelling/prep_wav.py:148: WavFileWarning: Chunk (non-data) not understood, skipping it.\n",
      "  in_rate, in_data = wavfile.read(args.validation[4])\n",
      "/home/micahtseng/Personal/mlamsk/python3Env/pytorchSandbox/Automated-GuitarAmpModelling/prep_wav.py:149: WavFileWarning: Chunk (non-data) not understood, skipping it.\n",
      "  out_rate, out_data = wavfile.read(args.validation[5])\n"
     ]
    }
   ],
   "source": [
    "!python prep_wav.py \"hverb\" -v \\\n",
    "\"./Recordings/hverb/H-Verb_Training_Clean.wav\" \\\n",
    "\"./Recordings/hverb/H-Verb_Training_Dirty.wav\" \\\n",
    "\"./Recordings/hverb/H-Verb_Test_Clean.wav\" \\\n",
    "\"./Recordings/hverb/H-Verb_Test_Dirty.wav\" \\\n",
    "\"./Recordings/hverb/H-Verb_Test_Clean.wav\" \\\n",
    "\"./Recordings/hverb/H-Verb_Test_Dirty.wav\" "
   ]
  },
  {
   "cell_type": "code",
   "execution_count": null,
   "id": "9b0f803a",
   "metadata": {},
   "outputs": [],
   "source": [
    "!python prep_wav.py \"hverb\" -v \\\n",
    "\"./Recordings/hverb/H-Verb_Training_Dirty.wav\" \\\n",
    "\"./Recordings/hverb/H-Verb_Training_Clean.wav\" \\\n",
    "\"./Recordings/hverb/H-Verb_Test_Dirty.wav\" \\\n",
    "\"./Recordings/hverb/H-Verb_Test_Clean.wav\" \\\n",
    "\"./Recordings/hverb/H-Verb_Test_Dirty.wav\" \\\n",
    "\"./Recordings/hverb/H-Verb_Test_Clean.wav\" "
   ]
  },
  {
   "cell_type": "code",
   "execution_count": 31,
   "id": "c7ab0b40",
   "metadata": {},
   "outputs": [
    {
     "name": "stdout",
     "output_type": "stream",
     "text": [
      "no saved model found, creating new network\n",
      "cuda device available\n",
      "unimplemented audio data type conversion...\n",
      "unimplemented audio data type conversion...\n",
      "unimplemented audio data type conversion...\n",
      "unimplemented audio data type conversion...\n",
      "Epoch:  1\n",
      "current learning rate: 0.005\n",
      "Epoch:  2\n",
      "Val loss: tensor(1.9791)\n",
      "current learning rate: 0.005\n",
      "Epoch:  3\n",
      "current learning rate: 0.005\n",
      "Epoch:  4\n",
      "Val loss: tensor(1.5121)\n",
      "current learning rate: 0.005\n",
      "Epoch:  5\n",
      "current learning rate: 0.005\n",
      "unimplemented audio data type conversion...\n",
      "unimplemented audio data type conversion...\n",
      "Done Training\n",
      "Testing the final Model\n",
      "Testing the best Model\n",
      "Finished Training: SimpleRNNhverb_LSTM_hs20_pre_high_pass\n"
     ]
    }
   ],
   "source": [
    "!python dist_model_recnet.py -l RNN3-hverb -eps 5 -bs 88200"
   ]
  }
 ],
 "metadata": {
  "kernelspec": {
   "display_name": "Python 3 (ipykernel)",
   "language": "python",
   "name": "python3"
  },
  "language_info": {
   "codemirror_mode": {
    "name": "ipython",
    "version": 3
   },
   "file_extension": ".py",
   "mimetype": "text/x-python",
   "name": "python",
   "nbconvert_exporter": "python",
   "pygments_lexer": "ipython3",
   "version": "3.9.5"
  }
 },
 "nbformat": 4,
 "nbformat_minor": 5
}
